{
 "cells": [
  {
   "cell_type": "code",
   "execution_count": null,
   "id": "7e2c2f6a-7e8d-4561-8578-7c1e56edec75",
   "metadata": {},
   "outputs": [],
   "source": []
  },
  {
   "cell_type": "code",
   "execution_count": null,
   "id": "d798c1ee-ff5f-4f37-8e11-c4c910ed0ded",
   "metadata": {},
   "outputs": [],
   "source": []
  },
  {
   "cell_type": "code",
   "execution_count": null,
   "id": "23abb409-7261-4d8a-8339-cb9f2dce60a2",
   "metadata": {},
   "outputs": [],
   "source": []
  },
  {
   "cell_type": "code",
   "execution_count": null,
   "id": "1a0c03a5-965c-46f3-8d66-76a3c75d99bb",
   "metadata": {},
   "outputs": [],
   "source": []
  },
  {
   "cell_type": "code",
   "execution_count": null,
   "id": "1e3b5225-890a-4586-aae1-1c268ac08e4e",
   "metadata": {},
   "outputs": [],
   "source": []
  },
  {
   "cell_type": "code",
   "execution_count": null,
   "id": "9b87dee8-82a1-49e4-a21b-d32e64d31ff2",
   "metadata": {},
   "outputs": [],
   "source": []
  },
  {
   "cell_type": "code",
   "execution_count": null,
   "id": "ac1f7db3-7497-4b8b-a6fb-d0a33b2f8916",
   "metadata": {},
   "outputs": [],
   "source": []
  },
  {
   "cell_type": "code",
   "execution_count": null,
   "id": "7cdd90f5-05e4-4372-9d08-8b3122403d87",
   "metadata": {},
   "outputs": [],
   "source": []
  },
  {
   "cell_type": "code",
   "execution_count": 1,
   "id": "c3c5e42d-1990-4f6d-97dc-311f03a0b5ac",
   "metadata": {},
   "outputs": [],
   "source": [
    "import pandas as pd"
   ]
  },
  {
   "cell_type": "raw",
   "id": "df27b57f-80d8-4ad6-8022-15652ab11e45",
   "metadata": {},
   "source": [
    "df=pd.read_csv('patients.csv')\n",
    "print(df.head(s))"
   ]
  },
  {
   "cell_type": "code",
   "execution_count": null,
   "id": "d6e5a270-873b-414c-b2fc-87045b1a5825",
   "metadata": {},
   "outputs": [],
   "source": [
    "age_counts=df['age].value_counts().sort_index()\n",
    "plt.figure(figsize=(8,15))\n",
    "plt.bar(age_counts.index,age_counts.values,color='skyblue',width=0.5,edgecolor='orange')\n",
    "plt.title('Number of Patients by Age')\n",
    "plt.xlabel('Age')\n",
    "plt.ylabel('Number of Patients')\n",
    "plt.show()"
   ]
  },
  {
   "cell_type": "raw",
   "id": "38e610d8-6508-47b3-8c5f-de0d07f5aa9d",
   "metadata": {},
   "source": [
    "print(df['service'].value_counts())"
   ]
  },
  {
   "cell_type": "code",
   "execution_count": 2,
   "id": "595f5006-b1cf-4bf4-b8e8-47af36b6ea7a",
   "metadata": {},
   "outputs": [
    {
     "ename": "AttributeError",
     "evalue": "module 'pandas' has no attribute 'to_datetime9df'",
     "output_type": "error",
     "traceback": [
      "\u001b[1;31m---------------------------------------------------------------------------\u001b[0m",
      "\u001b[1;31mAttributeError\u001b[0m                            Traceback (most recent call last)",
      "Cell \u001b[1;32mIn[2], line 1\u001b[0m\n\u001b[1;32m----> 1\u001b[0m df[\u001b[38;5;124m'\u001b[39m\u001b[38;5;124marrival_date\u001b[39m\u001b[38;5;124m'\u001b[39m]\u001b[38;5;241m=\u001b[39mpd\u001b[38;5;241m.\u001b[39mto_datetime9df[\u001b[38;5;124m'\u001b[39m\u001b[38;5;124marrival_date\u001b[39m\u001b[38;5;124m'\u001b[39m]\n\u001b[0;32m      2\u001b[0m \u001b[38;5;28mprint\u001b[39m(df[\u001b[38;5;124m'\u001b[39m\u001b[38;5;124marrival_date\u001b[39m\u001b[38;5;124m'\u001b[39m])\n\u001b[0;32m      3\u001b[0m avg_age_by_date\u001b[38;5;241m=\u001b[39mdf\u001b[38;5;241m.\u001b[39mgroupby(\u001b[38;5;124m'\u001b[39m\u001b[38;5;124marrival_date\u001b[39m\u001b[38;5;124m'\u001b[39m)[\u001b[38;5;124m'\u001b[39m\u001b[38;5;124mage\u001b[39m\u001b[38;5;124m'\u001b[39m]\u001b[38;5;241m.\u001b[39mmean()\n",
      "\u001b[1;31mAttributeError\u001b[0m: module 'pandas' has no attribute 'to_datetime9df'"
     ]
    }
   ],
   "source": [
    "df['arrival_date']=pd.to_datetime9df['arrival_date']\n",
    "print(df['arrival_date'])\n",
    "avg_age_by_date=df.groupby('arrival_date')['age'].mean()\n",
    "print(avg_age_by_date)"
   ]
  },
  {
   "cell_type": "markdown",
   "id": "8ab3fd9f-873a-41da-8baa-455569d38f1e",
   "metadata": {},
   "source": [
    "# Create a Bar plot- Average age of patients by Arrival Date"
   ]
  },
  {
   "cell_type": "code",
   "execution_count": 3,
   "id": "fa97b6e8-c536-4f96-9bdc-b3226f1a397e",
   "metadata": {},
   "outputs": [
    {
     "ename": "NameError",
     "evalue": "name 'df' is not defined",
     "output_type": "error",
     "traceback": [
      "\u001b[1;31m---------------------------------------------------------------------------\u001b[0m",
      "\u001b[1;31mNameError\u001b[0m                                 Traceback (most recent call last)",
      "Cell \u001b[1;32mIn[3], line 1\u001b[0m\n\u001b[1;32m----> 1\u001b[0m df[\u001b[38;5;124m'\u001b[39m\u001b[38;5;124marrival_date\u001b[39m\u001b[38;5;124m'\u001b[39m]\u001b[38;5;241m=\u001b[39mpd\u001b[38;5;241m.\u001b[39mto_datetime(df[\u001b[38;5;124m'\u001b[39m\u001b[38;5;124marrival_date\u001b[39m\u001b[38;5;124m'\u001b[39m])\n\u001b[0;32m      2\u001b[0m \u001b[38;5;28mprint\u001b[39m(df[\u001b[38;5;124m'\u001b[39m\u001b[38;5;124marrival_date\u001b[39m\u001b[38;5;124m'\u001b[39m])\n\u001b[0;32m      3\u001b[0m avg_age_by_date\u001b[38;5;241m=\u001b[39mdf\u001b[38;5;241m.\u001b[39mgroupby(\u001b[38;5;124m'\u001b[39m\u001b[38;5;124marrival_date\u001b[39m\u001b[38;5;124m'\u001b[39m)[\u001b[38;5;124m'\u001b[39m\u001b[38;5;124mage\u001b[39m\u001b[38;5;124m'\u001b[39m]\u001b[38;5;241m.\u001b[39mmean()\n",
      "\u001b[1;31mNameError\u001b[0m: name 'df' is not defined"
     ]
    }
   ],
   "source": [
    "arrival_date=pd.to_datetime(df['arrival_date'])\n",
    "print(df['arrival_date'])\n",
    "plt.figure(figsize=(10,5))\n",
    "plt.bar(avg_age_by_date.index,astype(str),avg_age_by_date.values,color='skyblue',width=0.5,edgecolor='orange'\n",
    "plt.xlabel('Arrival Date')\n",
    "plt.ylabel('Arrival Date')\n",
    "avg_age_by_date=df.groupby('arrival_date')['age'].mean()\n",
    "print(avg_age_by_date)"
   ]
  },
  {
   "cell_type": "code",
   "execution_count": null,
   "id": "0aa48eb6-1b21-4e62-94ed-43d04c1cac86",
   "metadata": {},
   "outputs": [],
   "source": []
  }
 ],
 "metadata": {
  "kernelspec": {
   "display_name": "Python [conda env:base] *",
   "language": "python",
   "name": "conda-base-py"
  },
  "language_info": {
   "codemirror_mode": {
    "name": "ipython",
    "version": 3
   },
   "file_extension": ".py",
   "mimetype": "text/x-python",
   "name": "python",
   "nbconvert_exporter": "python",
   "pygments_lexer": "ipython3",
   "version": "3.13.5"
  }
 },
 "nbformat": 4,
 "nbformat_minor": 5
}
