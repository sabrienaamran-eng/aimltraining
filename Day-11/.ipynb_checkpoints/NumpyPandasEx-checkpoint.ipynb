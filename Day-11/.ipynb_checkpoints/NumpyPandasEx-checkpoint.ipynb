{
 "cells": [
  {
   "cell_type": "code",
   "execution_count": 1,
   "id": "e4641fe3-fdee-4ae3-a70c-b1100768b619",
   "metadata": {},
   "outputs": [],
   "source": [
    "import pandas as pd\n",
    "import numpy as np"
   ]
  },
  {
   "cell_type": "code",
   "execution_count": 2,
   "id": "fec55a35-0612-43ed-a3b0-d8b9743fded4",
   "metadata": {},
   "outputs": [
    {
     "name": "stdout",
     "output_type": "stream",
     "text": [
      "    Name  Age  Marks\n",
      "0   John   20     85\n",
      "1  Alice   22     90\n",
      "2    Bob   21     78\n",
      "3   Sara   23     92\n",
      "4    Sam   25     90\n",
      "5  Rohit   23     45\n"
     ]
    }
   ],
   "source": [
    "df=pd.read_excel('students.xlsx')\n",
    "print(df)"
   ]
  },
  {
   "cell_type": "code",
   "execution_count": 3,
   "id": "528e2684-2eeb-4d7e-87db-55d5efc90c21",
   "metadata": {},
   "outputs": [
    {
     "name": "stdout",
     "output_type": "stream",
     "text": [
      "Numpy Array of Marks\n",
      "[85 90 78 92 90 45]\n"
     ]
    }
   ],
   "source": [
    "marks=df['Marks'].to_numpy()\n",
    "print('Numpy Array of Marks')\n",
    "print(marks)"
   ]
  },
  {
   "cell_type": "code",
   "execution_count": 4,
   "id": "f59d3442-1f44-4f9d-b7ed-9178578a39e2",
   "metadata": {},
   "outputs": [
    {
     "name": "stdout",
     "output_type": "stream",
     "text": [
      "Highest Marks 92\n"
     ]
    }
   ],
   "source": [
    "print('Highest Marks',np.max(marks))"
   ]
  },
  {
   "cell_type": "code",
   "execution_count": 5,
   "id": "c0dcc5ea-5373-4fe4-bcb6-0902028e74dd",
   "metadata": {},
   "outputs": [
    {
     "name": "stdout",
     "output_type": "stream",
     "text": [
      "Lowest Marks 45\n"
     ]
    }
   ],
   "source": [
    "print('Lowest Marks',np.min(marks))"
   ]
  },
  {
   "cell_type": "code",
   "execution_count": 6,
   "id": "668d1904-c056-4252-8e85-a3458fbe5a33",
   "metadata": {},
   "outputs": [
    {
     "name": "stdout",
     "output_type": "stream",
     "text": [
      "Average Marks 80.0\n"
     ]
    }
   ],
   "source": [
    "print('Average Marks',np.mean(marks))"
   ]
  },
  {
   "cell_type": "markdown",
   "id": "e9a98253-8ebf-4b37-b8ad-af74987fcd96",
   "metadata": {},
   "source": [
    "# .loc: Label Based\n",
    "# .iloc: index Based"
   ]
  },
  {
   "cell_type": "code",
   "execution_count": 10,
   "id": "bbc09ddd-bda9-4bc7-8997-abf0927dd23e",
   "metadata": {},
   "outputs": [
    {
     "name": "stdout",
     "output_type": "stream",
     "text": [
      "original dataframe\n",
      "    Name  Age  Marks\n",
      "0   John   20     85\n",
      "1  Alice   22     90\n",
      "2    Bob   21     78\n",
      "3   Sara   23     92\n",
      "4    Sam   25     90\n",
      "5  Rohit   23     45\n",
      "Location: Label Based\n",
      "Name     Bob\n",
      "Marks     78\n",
      "Name: 2, dtype: object\n"
     ]
    }
   ],
   "source": [
    "print('original dataframe')\n",
    "print(df)\n",
    "print('Location: Label Based')\n",
    "print(df.loc[2,['Name','Marks']])"
   ]
  },
  {
   "cell_type": "code",
   "execution_count": 12,
   "id": "df1ebba5-3b9d-4a01-97f6-328e3d373f0c",
   "metadata": {},
   "outputs": [
    {
     "name": "stdout",
     "output_type": "stream",
     "text": [
      "original dataframe\n",
      "    Name  Age  Marks\n",
      "0   John   20     85\n",
      "1  Alice   22     90\n",
      "2    Bob   21     78\n",
      "3   Sara   23     92\n",
      "4    Sam   25     90\n",
      "5  Rohit   23     45\n",
      "Location: index Based\n",
      "Age      21\n",
      "Marks    78\n",
      "Name: 2, dtype: object\n"
     ]
    }
   ],
   "source": [
    "print('original dataframe')\n",
    "print(df)\n",
    "print('Location: index Based')\n",
    "print(df.iloc[2,[1,2]])"
   ]
  },
  {
   "cell_type": "markdown",
   "id": "0e935390-5edd-42ba-a519-77bb229bf50c",
   "metadata": {},
   "source": [
    "# Axis in Numpy: \n",
    "    1. Axis 0: vertical direction: works column wise\n",
    "    2. Axis 1: horizontal direction: works row-wise"
   ]
  },
  {
   "cell_type": "markdown",
   "id": "4b1a396c-d40d-458d-be40-246562a07f86",
   "metadata": {},
   "source": [
    "# we have two students marks in 3 subjects\n",
    "    # [[45,50,49],[30,45,49]]"
   ]
  },
  {
   "cell_type": "code",
   "execution_count": 14,
   "id": "ecacbb3a-6fc0-4e1d-b32b-822fbab5ebc0",
   "metadata": {},
   "outputs": [
    {
     "name": "stdout",
     "output_type": "stream",
     "text": [
      "[[45 50 49]\n",
      " [30 45 49]]\n"
     ]
    }
   ],
   "source": [
    "marks_arr=np.array([[45,50,49],[30,45,49]])\n",
    "print(marks_arr)"
   ]
  },
  {
   "cell_type": "code",
   "execution_count": 17,
   "id": "c599ef5e-49f0-4d92-9548-8c398461e30f",
   "metadata": {},
   "outputs": [
    {
     "name": "stdout",
     "output_type": "stream",
     "text": [
      "sum down each column [75 95 98]\n"
     ]
    }
   ],
   "source": [
    "print('sum down each column',np.sum(marks_arr,axis=0))"
   ]
  },
  {
   "cell_type": "code",
   "execution_count": 20,
   "id": "4e2b1a20-2b45-472e-aec9-7d7b1f64b654",
   "metadata": {},
   "outputs": [
    {
     "name": "stdout",
     "output_type": "stream",
     "text": [
      "sum down each column [144 124]\n"
     ]
    }
   ],
   "source": [
    "print('sum down each column',np.sum(marks_arr,axis=1))"
   ]
  },
  {
   "cell_type": "code",
   "execution_count": 21,
   "id": "ca6b0e99-4ece-4383-8c52-1d751f5fc63e",
   "metadata": {},
   "outputs": [
    {
     "name": "stdout",
     "output_type": "stream",
     "text": [
      "Numpy Array of marks\n",
      "[85 90 78 92 90 45]\n"
     ]
    }
   ],
   "source": [
    "print('Numpy Array of marks')\n",
    "print(marks)"
   ]
  },
  {
   "cell_type": "code",
   "execution_count": 22,
   "id": "4ca01925-e90a-4136-944f-b7a65420e440",
   "metadata": {},
   "outputs": [
    {
     "name": "stdout",
     "output_type": "stream",
     "text": [
      "    Name  Age  Marks\n",
      "0   John   20     85\n",
      "1  Alice   22     90\n",
      "2    Bob   21     78\n",
      "3   Sara   23     92\n",
      "4    Sam   25     90\n",
      "5  Rohit   23     45\n"
     ]
    }
   ],
   "source": [
    "print(df)"
   ]
  },
  {
   "cell_type": "markdown",
   "id": "5fd16855-d855-458b-b84b-27d1566e467b",
   "metadata": {},
   "source": [
    "# Find the student name who got highest marks"
   ]
  },
  {
   "cell_type": "code",
   "execution_count": 24,
   "id": "a900826b-59ef-4300-bdd4-00302fb21414",
   "metadata": {},
   "outputs": [
    {
     "name": "stdout",
     "output_type": "stream",
     "text": [
      "Sara\n"
     ]
    }
   ],
   "source": [
    "topper=df.loc[df['Marks'].idxmax(),'Name']\n",
    "print(topper)"
   ]
  },
  {
   "cell_type": "code",
   "execution_count": 25,
   "id": "96da454f-8a25-4f1e-a606-21e36ae776cf",
   "metadata": {},
   "outputs": [
    {
     "name": "stdout",
     "output_type": "stream",
     "text": [
      "Rohit\n"
     ]
    }
   ],
   "source": [
    "lastinclass=df.loc[df['Marks'].idxmin(),'Name']\n",
    "print(lastinclass)"
   ]
  },
  {
   "cell_type": "code",
   "execution_count": 26,
   "id": "4d28b866-34bb-4334-a229-665cffe73037",
   "metadata": {},
   "outputs": [
    {
     "name": "stdout",
     "output_type": "stream",
     "text": [
      "Next Example\n"
     ]
    }
   ],
   "source": [
    "print('Next Example')"
   ]
  },
  {
   "cell_type": "code",
   "execution_count": null,
   "id": "577817a8-2692-46aa-b2c3-b610566a1b34",
   "metadata": {},
   "outputs": [],
   "source": []
  }
 ],
 "metadata": {
  "kernelspec": {
   "display_name": "Python [conda env:base] *",
   "language": "python",
   "name": "conda-base-py"
  },
  "language_info": {
   "codemirror_mode": {
    "name": "ipython",
    "version": 3
   },
   "file_extension": ".py",
   "mimetype": "text/x-python",
   "name": "python",
   "nbconvert_exporter": "python",
   "pygments_lexer": "ipython3",
   "version": "3.13.5"
  }
 },
 "nbformat": 4,
 "nbformat_minor": 5
}
