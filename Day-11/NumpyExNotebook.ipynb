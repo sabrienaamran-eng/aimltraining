{
 "cells": [
  {
   "cell_type": "markdown",
   "id": "801d26a5-e953-4ac5-9c61-6388dc17840f",
   "metadata": {},
   "source": [
    "# Numpy Introduction and Usage\n",
    "## We will use numpy in this jupyter noteook"
   ]
  },
  {
   "cell_type": "markdown",
   "id": "33e81d87-0f56-431a-8b83-1b39c82e7673",
   "metadata": {},
   "source": [
    "# One Dimensional Array (1-D)"
   ]
  },
  {
   "cell_type": "code",
   "execution_count": 1,
   "id": "e6afe242-32d4-4b93-938f-235dc4716f04",
   "metadata": {},
   "outputs": [],
   "source": [
    "import numpy as np"
   ]
  },
  {
   "cell_type": "code",
   "execution_count": 71,
   "id": "991b39e3-421c-44f2-b9a1-09847df81576",
   "metadata": {},
   "outputs": [],
   "source": [
    "array1=np.array([10,20,30,40,50,80])"
   ]
  },
  {
   "cell_type": "code",
   "execution_count": 72,
   "id": "3f06b831-c0a3-4149-aa47-09602d4d8123",
   "metadata": {},
   "outputs": [
    {
     "name": "stdout",
     "output_type": "stream",
     "text": [
      "[10 20 30 40 50 80]\n"
     ]
    }
   ],
   "source": [
    "print(array1)"
   ]
  },
  {
   "cell_type": "markdown",
   "id": "c77bef9b-8709-4ed2-90ad-29190cba0603",
   "metadata": {},
   "source": [
    "# Two Dimensional Array (2-D)"
   ]
  },
  {
   "cell_type": "code",
   "execution_count": 73,
   "id": "6ab86cfb-7703-42a3-8ec0-39b196f08ec2",
   "metadata": {},
   "outputs": [],
   "source": [
    "array_two=np.array([[10,20,30],[40,50,70]])"
   ]
  },
  {
   "cell_type": "raw",
   "id": "7a7c2845-bba9-448c-99d0-9487bbaeada5",
   "metadata": {},
   "source": [
    "print(array_two)"
   ]
  },
  {
   "cell_type": "markdown",
   "id": "27e707bd-1d9b-43d8-bb93-b3c25bf305c0",
   "metadata": {},
   "source": [
    "# Three Dimensional Array (3-D Array)"
   ]
  },
  {
   "cell_type": "code",
   "execution_count": 74,
   "id": "e24dd57a-d502-409e-9439-0efaebf9260e",
   "metadata": {},
   "outputs": [],
   "source": [
    "array_three=np.array([[[10,20,30],[40,50,70]],[[10,20,30],[40,50,70]]])"
   ]
  },
  {
   "cell_type": "code",
   "execution_count": 75,
   "id": "5fdd4582-764f-4356-9c36-56093e2b06b9",
   "metadata": {},
   "outputs": [
    {
     "name": "stdout",
     "output_type": "stream",
     "text": [
      "[[[10 20 30]\n",
      "  [40 50 70]]\n",
      "\n",
      " [[10 20 30]\n",
      "  [40 50 70]]]\n"
     ]
    }
   ],
   "source": [
    "print(array_three)"
   ]
  },
  {
   "cell_type": "markdown",
   "id": "b6756b79-a882-4dd9-92b2-bbf62bf95387",
   "metadata": {},
   "source": [
    "# Find out Dimension of NumPy array"
   ]
  },
  {
   "cell_type": "code",
   "execution_count": 76,
   "id": "98141dd6-5c7d-4876-a02f-0bcc8953a001",
   "metadata": {},
   "outputs": [
    {
     "name": "stdout",
     "output_type": "stream",
     "text": [
      "First Array Dimension: \t 1\n"
     ]
    }
   ],
   "source": [
    "print('First Array Dimension: \\t',array1.ndim)"
   ]
  },
  {
   "cell_type": "code",
   "execution_count": 77,
   "id": "d05f8176-9224-4e62-bf27-77968b8f66b0",
   "metadata": {},
   "outputs": [
    {
     "name": "stdout",
     "output_type": "stream",
     "text": [
      "Second Array Dimension: \t 2\n"
     ]
    }
   ],
   "source": [
    "print('Second Array Dimension: \\t',array_two.ndim)"
   ]
  },
  {
   "cell_type": "code",
   "execution_count": 78,
   "id": "270383bd-0ed6-431c-a1a3-be200ab98ea4",
   "metadata": {},
   "outputs": [
    {
     "name": "stdout",
     "output_type": "stream",
     "text": [
      "Third Array Dimension: \t 3\n"
     ]
    }
   ],
   "source": [
    "print('Third Array Dimension: \\t',array_three.ndim)"
   ]
  },
  {
   "cell_type": "markdown",
   "id": "6c3526bd-8a5f-4e70-b62e-9a3c946fc03b",
   "metadata": {},
   "source": [
    "# Write an array of 5 students marks using Numpy\n",
    "    ## Marks are: 50,70,75,99.89"
   ]
  },
  {
   "cell_type": "code",
   "execution_count": 79,
   "id": "cb215eba-1a82-46aa-9908-ec68888982f9",
   "metadata": {},
   "outputs": [],
   "source": [
    "marks = np.array([50, 70, 75, 99, 89])"
   ]
  },
  {
   "cell_type": "code",
   "execution_count": 80,
   "id": "2dde03aa-d283-4a5c-82ef-124be4056e4c",
   "metadata": {},
   "outputs": [
    {
     "name": "stdout",
     "output_type": "stream",
     "text": [
      "Students marks:\n",
      "[50 70 75 99 89]\n"
     ]
    }
   ],
   "source": [
    "print('Students marks:')\n",
    "print(marks)"
   ]
  },
  {
   "cell_type": "markdown",
   "id": "34c30c8b-e989-4554-9a40-acec758e69e1",
   "metadata": {},
   "source": [
    "# Write an array: to take marks of 5 students in 3 subjects using Numpy\n",
    "## Math, English, Chemistry\n",
    "## [50,45,49],[40,42,45],[35,40,46],[39,40,45],[48,40,40]]"
   ]
  },
  {
   "cell_type": "code",
   "execution_count": 81,
   "id": "c29f164a-fe6f-4c8b-92fe-3f4e3e0b8e96",
   "metadata": {},
   "outputs": [
    {
     "name": "stdout",
     "output_type": "stream",
     "text": [
      "2 D array Examples\n",
      "[[50 45 49]\n",
      " [40 42 45]\n",
      " [35 40 46]\n",
      " [39 40 45]\n",
      " [48 40 40]]\n"
     ]
    }
   ],
   "source": [
    "marks_subject=np.array([[50,45,49],[40,42,45],[35,40,46],[39,40,45],[48,40,40]])\n",
    "print('2 D array Examples')\n",
    "print(marks_subject)"
   ]
  },
  {
   "cell_type": "markdown",
   "id": "0335fc87-b933-4d51-b8df-a1a414a83a22",
   "metadata": {},
   "source": [
    "# Write an array: to take Marks of 4 students in 3 subjects for two semester using Numpy\n",
    "    ## Students Name are: 'Amit','Sha','Xi','Arif'\n",
    "    ## Math, English, Chemistry\n",
    "    ## Two Semester: Sem1, Sem2\n",
    "    ## 4*3*2\n",
    "    ## ([[[85,88],[78,82][90,95]],[[76,70],[40,45][90,90]],[[80,86],[78,82][90,95]],[[85,88],[78,82][70,90]]])"
   ]
  },
  {
   "cell_type": "code",
   "execution_count": 82,
   "id": "d2b5fbc2-72c8-4d8a-ba58-1274cf5b14d0",
   "metadata": {},
   "outputs": [],
   "source": [
    "marks_subject_sem=np.array([\n",
    "    [[85,88],[78,82],[90,95]],\n",
    "    [[76,70],[40,45],[90,90]],\n",
    "    [[80,86],[78,82],[90,95]],\n",
    "    [[85,88],[78,82],[70,90]]\n",
    "])"
   ]
  },
  {
   "cell_type": "code",
   "execution_count": 83,
   "id": "66b8e0ef-f108-46a9-b686-edb2e2b3d852",
   "metadata": {},
   "outputs": [
    {
     "name": "stdout",
     "output_type": "stream",
     "text": [
      "[[[85 88]\n",
      "  [78 82]\n",
      "  [90 95]]\n",
      "\n",
      " [[76 70]\n",
      "  [40 45]\n",
      "  [90 90]]\n",
      "\n",
      " [[80 86]\n",
      "  [78 82]\n",
      "  [90 95]]\n",
      "\n",
      " [[85 88]\n",
      "  [78 82]\n",
      "  [70 90]]]\n"
     ]
    }
   ],
   "source": [
    "print (marks_subject_sem)"
   ]
  },
  {
   "cell_type": "markdown",
   "id": "86331221-9f3c-46b7-83a9-a813ec95dc7b",
   "metadata": {},
   "source": [
    "# Write an array: to take wheater of 2 cities in 3 days for three times in a day morning, noon, evening\n",
    "    ## Cities Name are: 'Kuala Lumpur, 'Delhi'\n",
    "    ## Saturday, Sunday, Monday\n",
    "    ## Three Time Slot: Morning Noon, Evening\n",
    "    ### this is degree celsius:\n",
    "    ## ([[[28, 32, 29],[27, 33, 30],[26, 31, 28]],  \n",
    "    [[22, 30, 25],[24, 32, 26],[23, 31, 27]]])\n",
    "# Create one 3 D Array for this using NumPy and print it"
   ]
  },
  {
   "cell_type": "code",
   "execution_count": 84,
   "id": "de96ba88-1307-408a-b6da-4adb628c4d1f",
   "metadata": {},
   "outputs": [],
   "source": [
    "wheater_2_cities=np.array([\n",
    "    [[28, 32, 29],[27, 33, 30],[26, 31, 28]],\n",
    "    [[22, 30, 25],[24, 32, 26],[23, 31, 27]]\n",
    "])"
   ]
  },
  {
   "cell_type": "code",
   "execution_count": 85,
   "id": "f36a43cf-d670-4998-a3af-a848b568a832",
   "metadata": {},
   "outputs": [
    {
     "name": "stdout",
     "output_type": "stream",
     "text": [
      "[[[28 32 29]\n",
      "  [27 33 30]\n",
      "  [26 31 28]]\n",
      "\n",
      " [[22 30 25]\n",
      "  [24 32 26]\n",
      "  [23 31 27]]]\n"
     ]
    }
   ],
   "source": [
    "print (wheater_2_cities)"
   ]
  },
  {
   "cell_type": "code",
   "execution_count": 86,
   "id": "189be2fc-0789-4b73-8833-bd800560332d",
   "metadata": {},
   "outputs": [
    {
     "name": "stdout",
     "output_type": "stream",
     "text": [
      "\n",
      "Shape of array: (2, 3, 3)\n"
     ]
    }
   ],
   "source": [
    "print(\"\\nShape of array:\", wheater_2_cities.shape)"
   ]
  },
  {
   "cell_type": "markdown",
   "id": "a2eaf2e7-9e20-4819-8165-028bb3eeb9bc",
   "metadata": {},
   "source": [
    "# Basic Information\n",
    "    ## shape: rows and columns\n",
    "    ## size: number of elements\n",
    "    ## Dimension: return dimension 1,2,3...\n",
    "    ## Data Type: return stored data values type"
   ]
  },
  {
   "cell_type": "code",
   "execution_count": 87,
   "id": "d5f9450a-f724-4905-8e3e-2d6f6fc67495",
   "metadata": {},
   "outputs": [
    {
     "name": "stdout",
     "output_type": "stream",
     "text": [
      "[10 20 30 40 50 80]\n"
     ]
    }
   ],
   "source": [
    "print(array1)"
   ]
  },
  {
   "cell_type": "code",
   "execution_count": 88,
   "id": "76d13b1b-015a-403c-b094-8a257e92c4b5",
   "metadata": {},
   "outputs": [
    {
     "name": "stdout",
     "output_type": "stream",
     "text": [
      "Shape of array1: (6,)\n"
     ]
    }
   ],
   "source": [
    "print(\"Shape of array1:\",array1.shape)"
   ]
  },
  {
   "cell_type": "code",
   "execution_count": 89,
   "id": "fc818dd8-2c2e-4094-a96b-416872d1390b",
   "metadata": {},
   "outputs": [
    {
     "name": "stdout",
     "output_type": "stream",
     "text": [
      "size of array1: 6\n"
     ]
    }
   ],
   "source": [
    "print(\"size of array1:\",array1.size)"
   ]
  },
  {
   "cell_type": "code",
   "execution_count": 90,
   "id": "5c719cfc-e6a5-4717-bc11-a7c5a516d57e",
   "metadata": {},
   "outputs": [
    {
     "name": "stdout",
     "output_type": "stream",
     "text": [
      "Dimension:  1\n"
     ]
    }
   ],
   "source": [
    "print ('Dimension: ',array1.ndim)"
   ]
  },
  {
   "cell_type": "code",
   "execution_count": 91,
   "id": "4e0259e7-f1bf-48b6-9dd6-1ca0686d5994",
   "metadata": {},
   "outputs": [
    {
     "name": "stdout",
     "output_type": "stream",
     "text": [
      "Data Type:  int64\n"
     ]
    }
   ],
   "source": [
    "print('Data Type: ',array1.dtype)"
   ]
  },
  {
   "cell_type": "code",
   "execution_count": 92,
   "id": "b9291fed-2898-46af-ac75-4986f9b269c2",
   "metadata": {},
   "outputs": [],
   "source": [
    "students=np.array(['Ali Munaf Bin Kabir','Shi','Xi','Meena','Ziva'])"
   ]
  },
  {
   "cell_type": "code",
   "execution_count": 93,
   "id": "9b141b30-00e3-4e98-b20c-061c68634970",
   "metadata": {},
   "outputs": [
    {
     "name": "stdout",
     "output_type": "stream",
     "text": [
      "['Ali Munaf Bin Kabir' 'Shi' 'Xi' 'Meena' 'Ziva']\n"
     ]
    }
   ],
   "source": [
    "print(students)"
   ]
  },
  {
   "cell_type": "code",
   "execution_count": 94,
   "id": "07d6915b-3f9c-4980-ab84-6f1842d3cbed",
   "metadata": {},
   "outputs": [
    {
     "name": "stdout",
     "output_type": "stream",
     "text": [
      "Shape of Array: (5,)\n"
     ]
    }
   ],
   "source": [
    "print('Shape of Array:',students.shape)"
   ]
  },
  {
   "cell_type": "code",
   "execution_count": 96,
   "id": "68380ff6-7bff-4b8d-9614-df9f5c910b6b",
   "metadata": {},
   "outputs": [
    {
     "name": "stdout",
     "output_type": "stream",
     "text": [
      "Number of students 5\n"
     ]
    }
   ],
   "source": [
    "print('Number of students',students.size)"
   ]
  },
  {
   "cell_type": "code",
   "execution_count": 97,
   "id": "d968f83d-6cd1-44f6-9216-6a776b147b94",
   "metadata": {},
   "outputs": [
    {
     "name": "stdout",
     "output_type": "stream",
     "text": [
      "Data Type: <U19\n"
     ]
    }
   ],
   "source": [
    "print('Data Type:', students.dtype)"
   ]
  },
  {
   "cell_type": "markdown",
   "id": "4a680f5b-735f-4014-bd38-613b95878036",
   "metadata": {},
   "source": [
    "# Mathematical Operation"
   ]
  },
  {
   "cell_type": "code",
   "execution_count": 98,
   "id": "4e472869-3fb7-4823-81ba-07ac50cca5d7",
   "metadata": {},
   "outputs": [
    {
     "name": "stdout",
     "output_type": "stream",
     "text": [
      "[10 20 30 40 50 80]\n"
     ]
    }
   ],
   "source": [
    "print(array1)"
   ]
  },
  {
   "cell_type": "code",
   "execution_count": 99,
   "id": "6e7fb3b2-c828-4523-b60f-1a33c579eae9",
   "metadata": {},
   "outputs": [],
   "source": [
    "total=np.sum(array1)"
   ]
  },
  {
   "cell_type": "code",
   "execution_count": 100,
   "id": "1aae924d-3638-4ecd-8164-83588426228a",
   "metadata": {},
   "outputs": [
    {
     "name": "stdout",
     "output_type": "stream",
     "text": [
      "230\n"
     ]
    }
   ],
   "source": [
    "print(total)"
   ]
  },
  {
   "cell_type": "code",
   "execution_count": 101,
   "id": "26898773-d822-44b8-ad99-2e356976d612",
   "metadata": {},
   "outputs": [
    {
     "name": "stdout",
     "output_type": "stream",
     "text": [
      "Mean: 38.333333333333336\n"
     ]
    }
   ],
   "source": [
    "print('Mean:',np.mean(array1))"
   ]
  },
  {
   "cell_type": "code",
   "execution_count": 102,
   "id": "5326c64f-49c4-4f4e-900a-b7b2486d352c",
   "metadata": {},
   "outputs": [
    {
     "name": "stdout",
     "output_type": "stream",
     "text": [
      "Min: 10\n"
     ]
    }
   ],
   "source": [
    "print('Min:',np.min(array1))"
   ]
  },
  {
   "cell_type": "code",
   "execution_count": 103,
   "id": "80a86c9a-aed9-4d8b-9b8b-877bd968c3fe",
   "metadata": {},
   "outputs": [
    {
     "name": "stdout",
     "output_type": "stream",
     "text": [
      "Max: 80\n"
     ]
    }
   ],
   "source": [
    "print('Max:',np.max(array1))"
   ]
  },
  {
   "cell_type": "code",
   "execution_count": 104,
   "id": "b7d8dd65-e6d0-44ea-91b9-279011215f11",
   "metadata": {},
   "outputs": [
    {
     "name": "stdout",
     "output_type": "stream",
     "text": [
      "Index of Min: 0\n"
     ]
    }
   ],
   "source": [
    "print('Index of Min:',np.argmin(array1))"
   ]
  },
  {
   "cell_type": "code",
   "execution_count": 106,
   "id": "bad25d60-ccb7-4f76-a48e-982a6370a073",
   "metadata": {},
   "outputs": [
    {
     "name": "stdout",
     "output_type": "stream",
     "text": [
      "Index of Max: 5\n"
     ]
    }
   ],
   "source": [
    "print('Index of Max:',np.argmax(array1))"
   ]
  },
  {
   "cell_type": "code",
   "execution_count": 107,
   "id": "44a05366-bf1b-47ad-8e31-ded2191b8e67",
   "metadata": {},
   "outputs": [],
   "source": [
    "our_arr=np.array([100,200,300,7000,400,500,300,1900,600])"
   ]
  },
  {
   "cell_type": "code",
   "execution_count": 108,
   "id": "2252ee5b-5668-49d1-875d-d60569582d2e",
   "metadata": {},
   "outputs": [
    {
     "name": "stdout",
     "output_type": "stream",
     "text": [
      "[ 100  200  300 7000  400  500  300 1900  600]\n"
     ]
    }
   ],
   "source": [
    "print(our_arr)"
   ]
  },
  {
   "cell_type": "markdown",
   "id": "edf9c29c-931d-4cb5-807e-c0ef31f7398d",
   "metadata": {},
   "source": [
    "# Searching and Sorting Example in 1 D Array"
   ]
  },
  {
   "cell_type": "code",
   "execution_count": 109,
   "id": "abcf77fc-dbc6-4c3e-9e87-e1d58f7b9518",
   "metadata": {},
   "outputs": [
    {
     "name": "stdout",
     "output_type": "stream",
     "text": [
      "*** Sorted Array\n",
      "[ 100  200  300  300  400  500  600 1900 7000]\n"
     ]
    }
   ],
   "source": [
    "sorted_arr=np.sort(our_arr)\n",
    "print('*** Sorted Array')\n",
    "print(sorted_arr)"
   ]
  },
  {
   "cell_type": "code",
   "execution_count": 111,
   "id": "4d6df7dc-a428-4b9d-ba5c-4e8e521218bb",
   "metadata": {},
   "outputs": [
    {
     "name": "stdout",
     "output_type": "stream",
     "text": [
      "any item greater than 500 ?:  True\n"
     ]
    }
   ],
   "source": [
    "print('any item greater than 500 ?: ',np.any(sorted_arr>500))"
   ]
  },
  {
   "cell_type": "code",
   "execution_count": 112,
   "id": "4ef4d594-7035-4e78-9e61-b414ecb4f754",
   "metadata": {},
   "outputs": [
    {
     "name": "stdout",
     "output_type": "stream",
     "text": [
      "any item greater than 99 ?:  True\n"
     ]
    }
   ],
   "source": [
    "print('any item greater than 99 ?: ',np.any(sorted_arr>99))"
   ]
  },
  {
   "cell_type": "code",
   "execution_count": 113,
   "id": "05ac75a5-338c-47f3-bced-60a22e26b9b7",
   "metadata": {},
   "outputs": [
    {
     "name": "stdout",
     "output_type": "stream",
     "text": [
      "Where values >500 (array([6, 7, 8]),)\n"
     ]
    }
   ],
   "source": [
    "print('Where values >500',np.where(sorted_arr>500))"
   ]
  },
  {
   "cell_type": "code",
   "execution_count": 114,
   "id": "46a686fc-ab55-4c39-8ee6-8608863fd83e",
   "metadata": {},
   "outputs": [
    {
     "name": "stdout",
     "output_type": "stream",
     "text": [
      "All number greater than 500\n",
      "[6 7 8]\n"
     ]
    }
   ],
   "source": [
    "print('All number greater than 500')\n",
    "for num in np.where(sorted_arr>500):\n",
    "    print(num)"
   ]
  },
  {
   "cell_type": "code",
   "execution_count": 115,
   "id": "ca1cbbed-50c6-4ba5-acb8-f9b928f53afd",
   "metadata": {},
   "outputs": [
    {
     "name": "stdout",
     "output_type": "stream",
     "text": [
      "All Number greater than 500\n",
      "False\n",
      "False\n",
      "False\n",
      "False\n",
      "False\n",
      "False\n",
      "True\n",
      "True\n",
      "True\n"
     ]
    }
   ],
   "source": [
    "print('All Number greater than 500')\n",
    "for num in sorted_arr>500:\n",
    "    print(num)"
   ]
  },
  {
   "cell_type": "code",
   "execution_count": 116,
   "id": "113d638b-ce63-440b-9080-10cfc4e8d5a9",
   "metadata": {},
   "outputs": [],
   "source": [
    "selected_values=sorted_arr[sorted_arr>500]"
   ]
  },
  {
   "cell_type": "code",
   "execution_count": 117,
   "id": "75c67d39-8c70-452f-8593-822631214ead",
   "metadata": {},
   "outputs": [
    {
     "name": "stdout",
     "output_type": "stream",
     "text": [
      "[ 600 1900 7000]\n"
     ]
    }
   ],
   "source": [
    "print(selected_values)"
   ]
  },
  {
   "cell_type": "code",
   "execution_count": 118,
   "id": "3c94e54e-ef65-4dd9-a962-c22a4b80e485",
   "metadata": {},
   "outputs": [
    {
     "name": "stdout",
     "output_type": "stream",
     "text": [
      "600\n",
      "1900\n",
      "7000\n"
     ]
    }
   ],
   "source": [
    "for num in selected_values:\n",
    "    print(num)"
   ]
  },
  {
   "cell_type": "code",
   "execution_count": 119,
   "id": "ae8e1a44-535d-4c96-b64c-1430ead3da44",
   "metadata": {},
   "outputs": [
    {
     "name": "stdout",
     "output_type": "stream",
     "text": [
      "  [ 600 1900 7000]\n"
     ]
    }
   ],
   "source": [
    "print(' ',sorted_arr[sorted_arr>500])"
   ]
  },
  {
   "cell_type": "markdown",
   "id": "5863d885-e494-4f28-8815-e4c388c8a66f",
   "metadata": {},
   "source": [
    "# Slicing 1 D Array\n",
    "    1. To take elements from starting index to end index\n",
    "    2. e.g. [start:end]"
   ]
  },
  {
   "cell_type": "code",
   "execution_count": 128,
   "id": "634f5cc1-2ba8-4423-b3f7-31a5f552f3f8",
   "metadata": {},
   "outputs": [
    {
     "name": "stdout",
     "output_type": "stream",
     "text": [
      "[ 100  200  300  300  400  500  600 1900 7000]\n"
     ]
    }
   ],
   "source": [
    "print(sorted_arr)"
   ]
  },
  {
   "cell_type": "code",
   "execution_count": 130,
   "id": "5ef831bb-f747-472e-a094-f45c1456f338",
   "metadata": {},
   "outputs": [
    {
     "name": "stdout",
     "output_type": "stream",
     "text": [
      "[200 300 300 400]\n"
     ]
    }
   ],
   "source": [
    "slice_sorted_arr=sorted_arr[1:5]\n",
    "print(slice_sorted_arr)"
   ]
  },
  {
   "cell_type": "markdown",
   "id": "9c85e5de-8f55-4470-b23c-1e84998cbcb4",
   "metadata": {},
   "source": [
    "# starting from an index and going till last"
   ]
  },
  {
   "cell_type": "code",
   "execution_count": 131,
   "id": "333b2168-d818-482c-99b1-5d17297e8de5",
   "metadata": {},
   "outputs": [
    {
     "name": "stdout",
     "output_type": "stream",
     "text": [
      "[ 300  400  500  600 1900 7000]\n"
     ]
    }
   ],
   "source": [
    "print(sorted_arr[3:])"
   ]
  },
  {
   "cell_type": "code",
   "execution_count": 132,
   "id": "c45d8d7b-0eb3-4722-bf6a-c676cd4bf992",
   "metadata": {},
   "outputs": [
    {
     "name": "stdout",
     "output_type": "stream",
     "text": [
      "[100 200 300 300]\n"
     ]
    }
   ],
   "source": [
    "print(sorted_arr[:4])"
   ]
  },
  {
   "cell_type": "code",
   "execution_count": 133,
   "id": "01ad8473-df25-40fe-820c-5487d214202f",
   "metadata": {},
   "outputs": [
    {
     "name": "stdout",
     "output_type": "stream",
     "text": [
      "[100 200 300 300 400]\n"
     ]
    }
   ],
   "source": [
    "print(sorted_arr[:5])"
   ]
  },
  {
   "cell_type": "markdown",
   "id": "70be57b6-eb16-489d-bfa0-19624f370fba",
   "metadata": {},
   "source": [
    "# step\n",
    "    ## [start:end:step]\n",
    "    ## step: every step element"
   ]
  },
  {
   "cell_type": "code",
   "execution_count": 134,
   "id": "86d5de1b-97fc-4516-b0b6-e244f9fe2426",
   "metadata": {},
   "outputs": [
    {
     "name": "stdout",
     "output_type": "stream",
     "text": [
      "[200 300 500]\n"
     ]
    }
   ],
   "source": [
    "our_slice=sorted_arr[1:6:2]\n",
    "print(our_slice)"
   ]
  },
  {
   "cell_type": "code",
   "execution_count": 136,
   "id": "b5b2af14-e412-4e27-87ed-22f49cd60c11",
   "metadata": {},
   "outputs": [
    {
     "name": "stdout",
     "output_type": "stream",
     "text": [
      "Original Array\n",
      "[ 100  200  300  300  400  500  600 1900 7000]\n",
      "Every Third Element\n",
      "[100 300 600]\n"
     ]
    }
   ],
   "source": [
    "print('Original Array')\n",
    "print(sorted_arr)\n",
    "print('Every Third Element')\n",
    "every_third_element=sorted_arr[::3]\n",
    "print(every_third_element)"
   ]
  },
  {
   "cell_type": "markdown",
   "id": "eaeab98b-c8c7-42a0-9a59-d1ca88663676",
   "metadata": {},
   "source": [
    "# Slice Reverse"
   ]
  },
  {
   "cell_type": "code",
   "execution_count": 137,
   "id": "01f407d4-9361-475a-99ab-57603225dd95",
   "metadata": {},
   "outputs": [
    {
     "name": "stdout",
     "output_type": "stream",
     "text": [
      "Original Array\n",
      "[ 100  200  300  300  400  500  600 1900 7000]\n",
      "Revers Array:\n",
      "[7000 1900  600  500  400  300  300  200  100]\n"
     ]
    }
   ],
   "source": [
    "print('Original Array')\n",
    "print(sorted_arr)\n",
    "print('Revers Array:')\n",
    "print(sorted_arr[::-1])"
   ]
  },
  {
   "cell_type": "code",
   "execution_count": 138,
   "id": "18a1399d-e7ae-40fa-8e40-2be1691f81f2",
   "metadata": {},
   "outputs": [
    {
     "name": "stdout",
     "output_type": "stream",
     "text": [
      "Last five elements\n",
      "[ 400  500  600 1900 7000]\n"
     ]
    }
   ],
   "source": [
    "print('Last five elements')\n",
    "print(sorted_arr[-5:])"
   ]
  },
  {
   "cell_type": "code",
   "execution_count": 139,
   "id": "0c5708be-0ad0-43d6-955c-8b4f54ad18fc",
   "metadata": {},
   "outputs": [
    {
     "name": "stdout",
     "output_type": "stream",
     "text": [
      "Slicing Done\n"
     ]
    }
   ],
   "source": [
    "print('Slicing Done')"
   ]
  },
  {
   "cell_type": "code",
   "execution_count": null,
   "id": "e46dd8e3-4a2a-4443-8a64-3082dcadede1",
   "metadata": {},
   "outputs": [],
   "source": []
  }
 ],
 "metadata": {
  "kernelspec": {
   "display_name": "Python [conda env:base] *",
   "language": "python",
   "name": "conda-base-py"
  },
  "language_info": {
   "codemirror_mode": {
    "name": "ipython",
    "version": 3
   },
   "file_extension": ".py",
   "mimetype": "text/x-python",
   "name": "python",
   "nbconvert_exporter": "python",
   "pygments_lexer": "ipython3",
   "version": "3.13.5"
  }
 },
 "nbformat": 4,
 "nbformat_minor": 5
}
