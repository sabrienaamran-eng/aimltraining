{
 "cells": [
  {
   "cell_type": "markdown",
   "id": "e9ef4ad4-8ad4-4539-b2c1-0f6651dd0179",
   "metadata": {},
   "source": [
    "# Basic Panda Example to read out from an excel file 1"
   ]
  },
  {
   "cell_type": "code",
   "execution_count": 1,
   "id": "52ced369-e174-45d9-9963-e45b9b8229d5",
   "metadata": {},
   "outputs": [],
   "source": [
    "import pandas as pd"
   ]
  },
  {
   "cell_type": "code",
   "execution_count": 4,
   "id": "819e5896-a74e-41fd-ab94-bbdb335b536b",
   "metadata": {},
   "outputs": [],
   "source": [
    "df=pd.read_excel(\"students.xlsx\")"
   ]
  },
  {
   "cell_type": "code",
   "execution_count": 5,
   "id": "d21292a5-d04c-4e40-aafd-72300a80d0af",
   "metadata": {},
   "outputs": [
    {
     "name": "stdout",
     "output_type": "stream",
     "text": [
      "Printing Data Frame as follows\n"
     ]
    },
    {
     "data": {
      "text/html": [
       "<div>\n",
       "<style scoped>\n",
       "    .dataframe tbody tr th:only-of-type {\n",
       "        vertical-align: middle;\n",
       "    }\n",
       "\n",
       "    .dataframe tbody tr th {\n",
       "        vertical-align: top;\n",
       "    }\n",
       "\n",
       "    .dataframe thead th {\n",
       "        text-align: right;\n",
       "    }\n",
       "</style>\n",
       "<table border=\"1\" class=\"dataframe\">\n",
       "  <thead>\n",
       "    <tr style=\"text-align: right;\">\n",
       "      <th></th>\n",
       "      <th>Name</th>\n",
       "      <th>Age</th>\n",
       "      <th>Marks</th>\n",
       "    </tr>\n",
       "  </thead>\n",
       "  <tbody>\n",
       "    <tr>\n",
       "      <th>0</th>\n",
       "      <td>John</td>\n",
       "      <td>20</td>\n",
       "      <td>85</td>\n",
       "    </tr>\n",
       "    <tr>\n",
       "      <th>1</th>\n",
       "      <td>Alice</td>\n",
       "      <td>22</td>\n",
       "      <td>90</td>\n",
       "    </tr>\n",
       "    <tr>\n",
       "      <th>2</th>\n",
       "      <td>Bob</td>\n",
       "      <td>21</td>\n",
       "      <td>78</td>\n",
       "    </tr>\n",
       "    <tr>\n",
       "      <th>3</th>\n",
       "      <td>Sara</td>\n",
       "      <td>23</td>\n",
       "      <td>92</td>\n",
       "    </tr>\n",
       "    <tr>\n",
       "      <th>4</th>\n",
       "      <td>Sam</td>\n",
       "      <td>25</td>\n",
       "      <td>90</td>\n",
       "    </tr>\n",
       "    <tr>\n",
       "      <th>5</th>\n",
       "      <td>Rohit</td>\n",
       "      <td>23</td>\n",
       "      <td>45</td>\n",
       "    </tr>\n",
       "  </tbody>\n",
       "</table>\n",
       "</div>"
      ],
      "text/plain": [
       "    Name  Age  Marks\n",
       "0   John   20     85\n",
       "1  Alice   22     90\n",
       "2    Bob   21     78\n",
       "3   Sara   23     92\n",
       "4    Sam   25     90\n",
       "5  Rohit   23     45"
      ]
     },
     "execution_count": 5,
     "metadata": {},
     "output_type": "execute_result"
    }
   ],
   "source": [
    "print('Printing Data Frame as follows')\n",
    "df"
   ]
  },
  {
   "cell_type": "code",
   "execution_count": 20,
   "id": "e220912e-1f1f-4b6c-80ff-c8e864cc314a",
   "metadata": {},
   "outputs": [],
   "source": [
    "dfpatients=pd.read_csv(r\"C:\\Users\\sabri\\OneDrive\\Desktop\\aimltraining\\Day-10\\patients.csv\")"
   ]
  },
  {
   "cell_type": "code",
   "execution_count": 21,
   "id": "374fadee-14d6-4df6-b629-4a136dddf8c6",
   "metadata": {},
   "outputs": [
    {
     "data": {
      "text/html": [
       "<div>\n",
       "<style scoped>\n",
       "    .dataframe tbody tr th:only-of-type {\n",
       "        vertical-align: middle;\n",
       "    }\n",
       "\n",
       "    .dataframe tbody tr th {\n",
       "        vertical-align: top;\n",
       "    }\n",
       "\n",
       "    .dataframe thead th {\n",
       "        text-align: right;\n",
       "    }\n",
       "</style>\n",
       "<table border=\"1\" class=\"dataframe\">\n",
       "  <thead>\n",
       "    <tr style=\"text-align: right;\">\n",
       "      <th></th>\n",
       "      <th>patient_id</th>\n",
       "      <th>name</th>\n",
       "      <th>age</th>\n",
       "      <th>arrival_date</th>\n",
       "      <th>departure_date</th>\n",
       "      <th>service</th>\n",
       "      <th>satisfaction</th>\n",
       "    </tr>\n",
       "  </thead>\n",
       "  <tbody>\n",
       "    <tr>\n",
       "      <th>0</th>\n",
       "      <td>PAT-09484753</td>\n",
       "      <td>Richard Rodriguez</td>\n",
       "      <td>24</td>\n",
       "      <td>2025-03-16</td>\n",
       "      <td>2025-03-22</td>\n",
       "      <td>surgery</td>\n",
       "      <td>61</td>\n",
       "    </tr>\n",
       "    <tr>\n",
       "      <th>1</th>\n",
       "      <td>PAT-f0644084</td>\n",
       "      <td>Shannon Walker</td>\n",
       "      <td>6</td>\n",
       "      <td>2025-12-13</td>\n",
       "      <td>2025-12-14</td>\n",
       "      <td>surgery</td>\n",
       "      <td>83</td>\n",
       "    </tr>\n",
       "    <tr>\n",
       "      <th>2</th>\n",
       "      <td>PAT-ac6162e4</td>\n",
       "      <td>Julia Torres</td>\n",
       "      <td>24</td>\n",
       "      <td>2025-06-29</td>\n",
       "      <td>2025-07-05</td>\n",
       "      <td>general_medicine</td>\n",
       "      <td>83</td>\n",
       "    </tr>\n",
       "    <tr>\n",
       "      <th>3</th>\n",
       "      <td>PAT-3dda2bb5</td>\n",
       "      <td>Crystal Johnson</td>\n",
       "      <td>32</td>\n",
       "      <td>2025-10-12</td>\n",
       "      <td>2025-10-23</td>\n",
       "      <td>emergency</td>\n",
       "      <td>81</td>\n",
       "    </tr>\n",
       "    <tr>\n",
       "      <th>4</th>\n",
       "      <td>PAT-08591375</td>\n",
       "      <td>Garrett Lin</td>\n",
       "      <td>25</td>\n",
       "      <td>2025-02-18</td>\n",
       "      <td>2025-02-25</td>\n",
       "      <td>ICU</td>\n",
       "      <td>76</td>\n",
       "    </tr>\n",
       "    <tr>\n",
       "      <th>...</th>\n",
       "      <td>...</td>\n",
       "      <td>...</td>\n",
       "      <td>...</td>\n",
       "      <td>...</td>\n",
       "      <td>...</td>\n",
       "      <td>...</td>\n",
       "      <td>...</td>\n",
       "    </tr>\n",
       "    <tr>\n",
       "      <th>995</th>\n",
       "      <td>PAT-a01bf534</td>\n",
       "      <td>Amber Vang</td>\n",
       "      <td>26</td>\n",
       "      <td>2025-12-02</td>\n",
       "      <td>2025-12-04</td>\n",
       "      <td>emergency</td>\n",
       "      <td>91</td>\n",
       "    </tr>\n",
       "    <tr>\n",
       "      <th>996</th>\n",
       "      <td>PAT-87fa07bd</td>\n",
       "      <td>Martha Smith</td>\n",
       "      <td>89</td>\n",
       "      <td>2025-11-18</td>\n",
       "      <td>2025-11-30</td>\n",
       "      <td>emergency</td>\n",
       "      <td>99</td>\n",
       "    </tr>\n",
       "    <tr>\n",
       "      <th>997</th>\n",
       "      <td>PAT-8f07e894</td>\n",
       "      <td>Jennifer James</td>\n",
       "      <td>72</td>\n",
       "      <td>2025-12-12</td>\n",
       "      <td>2025-12-21</td>\n",
       "      <td>ICU</td>\n",
       "      <td>69</td>\n",
       "    </tr>\n",
       "    <tr>\n",
       "      <th>998</th>\n",
       "      <td>PAT-4ae301e1</td>\n",
       "      <td>Kara Hernandez</td>\n",
       "      <td>47</td>\n",
       "      <td>2025-02-08</td>\n",
       "      <td>2025-02-20</td>\n",
       "      <td>ICU</td>\n",
       "      <td>61</td>\n",
       "    </tr>\n",
       "    <tr>\n",
       "      <th>999</th>\n",
       "      <td>PAT-e2ef9c5f</td>\n",
       "      <td>Lorraine Turner</td>\n",
       "      <td>64</td>\n",
       "      <td>2025-05-04</td>\n",
       "      <td>2025-05-08</td>\n",
       "      <td>general_medicine</td>\n",
       "      <td>83</td>\n",
       "    </tr>\n",
       "  </tbody>\n",
       "</table>\n",
       "<p>1000 rows × 7 columns</p>\n",
       "</div>"
      ],
      "text/plain": [
       "       patient_id               name  age arrival_date departure_date  \\\n",
       "0    PAT-09484753  Richard Rodriguez   24   2025-03-16     2025-03-22   \n",
       "1    PAT-f0644084     Shannon Walker    6   2025-12-13     2025-12-14   \n",
       "2    PAT-ac6162e4       Julia Torres   24   2025-06-29     2025-07-05   \n",
       "3    PAT-3dda2bb5    Crystal Johnson   32   2025-10-12     2025-10-23   \n",
       "4    PAT-08591375        Garrett Lin   25   2025-02-18     2025-02-25   \n",
       "..            ...                ...  ...          ...            ...   \n",
       "995  PAT-a01bf534         Amber Vang   26   2025-12-02     2025-12-04   \n",
       "996  PAT-87fa07bd       Martha Smith   89   2025-11-18     2025-11-30   \n",
       "997  PAT-8f07e894     Jennifer James   72   2025-12-12     2025-12-21   \n",
       "998  PAT-4ae301e1     Kara Hernandez   47   2025-02-08     2025-02-20   \n",
       "999  PAT-e2ef9c5f    Lorraine Turner   64   2025-05-04     2025-05-08   \n",
       "\n",
       "              service  satisfaction  \n",
       "0             surgery            61  \n",
       "1             surgery            83  \n",
       "2    general_medicine            83  \n",
       "3           emergency            81  \n",
       "4                 ICU            76  \n",
       "..                ...           ...  \n",
       "995         emergency            91  \n",
       "996         emergency            99  \n",
       "997               ICU            69  \n",
       "998               ICU            61  \n",
       "999  general_medicine            83  \n",
       "\n",
       "[1000 rows x 7 columns]"
      ]
     },
     "execution_count": 21,
     "metadata": {},
     "output_type": "execute_result"
    }
   ],
   "source": [
    "dfpatients"
   ]
  },
  {
   "cell_type": "code",
   "execution_count": 23,
   "id": "4478c7af-25e3-4eba-bd2f-17a3d7c6b986",
   "metadata": {},
   "outputs": [
    {
     "name": "stdout",
     "output_type": "stream",
     "text": [
      "0      Richard Rodriguez\n",
      "1         Shannon Walker\n",
      "2           Julia Torres\n",
      "3        Crystal Johnson\n",
      "4            Garrett Lin\n",
      "             ...        \n",
      "995           Amber Vang\n",
      "996         Martha Smith\n",
      "997       Jennifer James\n",
      "998       Kara Hernandez\n",
      "999      Lorraine Turner\n",
      "Name: name, Length: 1000, dtype: object\n"
     ]
    }
   ],
   "source": [
    "print(dfpatients['name'])"
   ]
  },
  {
   "cell_type": "markdown",
   "id": "85e14fd6-7df0-4a23-bd1c-af65a9521172",
   "metadata": {},
   "source": [
    "# head in dataframe"
   ]
  },
  {
   "cell_type": "code",
   "execution_count": 24,
   "id": "626b8fa0-abc7-4b16-8f5f-55daa94cf381",
   "metadata": {},
   "outputs": [
    {
     "data": {
      "text/html": [
       "<div>\n",
       "<style scoped>\n",
       "    .dataframe tbody tr th:only-of-type {\n",
       "        vertical-align: middle;\n",
       "    }\n",
       "\n",
       "    .dataframe tbody tr th {\n",
       "        vertical-align: top;\n",
       "    }\n",
       "\n",
       "    .dataframe thead th {\n",
       "        text-align: right;\n",
       "    }\n",
       "</style>\n",
       "<table border=\"1\" class=\"dataframe\">\n",
       "  <thead>\n",
       "    <tr style=\"text-align: right;\">\n",
       "      <th></th>\n",
       "      <th>Name</th>\n",
       "      <th>Age</th>\n",
       "      <th>Marks</th>\n",
       "    </tr>\n",
       "  </thead>\n",
       "  <tbody>\n",
       "    <tr>\n",
       "      <th>0</th>\n",
       "      <td>John</td>\n",
       "      <td>20</td>\n",
       "      <td>85</td>\n",
       "    </tr>\n",
       "    <tr>\n",
       "      <th>1</th>\n",
       "      <td>Alice</td>\n",
       "      <td>22</td>\n",
       "      <td>90</td>\n",
       "    </tr>\n",
       "    <tr>\n",
       "      <th>2</th>\n",
       "      <td>Bob</td>\n",
       "      <td>21</td>\n",
       "      <td>78</td>\n",
       "    </tr>\n",
       "    <tr>\n",
       "      <th>3</th>\n",
       "      <td>Sara</td>\n",
       "      <td>23</td>\n",
       "      <td>92</td>\n",
       "    </tr>\n",
       "    <tr>\n",
       "      <th>4</th>\n",
       "      <td>Sam</td>\n",
       "      <td>25</td>\n",
       "      <td>90</td>\n",
       "    </tr>\n",
       "  </tbody>\n",
       "</table>\n",
       "</div>"
      ],
      "text/plain": [
       "    Name  Age  Marks\n",
       "0   John   20     85\n",
       "1  Alice   22     90\n",
       "2    Bob   21     78\n",
       "3   Sara   23     92\n",
       "4    Sam   25     90"
      ]
     },
     "execution_count": 24,
     "metadata": {},
     "output_type": "execute_result"
    }
   ],
   "source": [
    "df.head()"
   ]
  },
  {
   "cell_type": "code",
   "execution_count": 25,
   "id": "3f9df0a1-60cb-4ae2-9a61-e7fa9f09808d",
   "metadata": {},
   "outputs": [
    {
     "data": {
      "text/html": [
       "<div>\n",
       "<style scoped>\n",
       "    .dataframe tbody tr th:only-of-type {\n",
       "        vertical-align: middle;\n",
       "    }\n",
       "\n",
       "    .dataframe tbody tr th {\n",
       "        vertical-align: top;\n",
       "    }\n",
       "\n",
       "    .dataframe thead th {\n",
       "        text-align: right;\n",
       "    }\n",
       "</style>\n",
       "<table border=\"1\" class=\"dataframe\">\n",
       "  <thead>\n",
       "    <tr style=\"text-align: right;\">\n",
       "      <th></th>\n",
       "      <th>patient_id</th>\n",
       "      <th>name</th>\n",
       "      <th>age</th>\n",
       "      <th>arrival_date</th>\n",
       "      <th>departure_date</th>\n",
       "      <th>service</th>\n",
       "      <th>satisfaction</th>\n",
       "    </tr>\n",
       "  </thead>\n",
       "  <tbody>\n",
       "    <tr>\n",
       "      <th>0</th>\n",
       "      <td>PAT-09484753</td>\n",
       "      <td>Richard Rodriguez</td>\n",
       "      <td>24</td>\n",
       "      <td>2025-03-16</td>\n",
       "      <td>2025-03-22</td>\n",
       "      <td>surgery</td>\n",
       "      <td>61</td>\n",
       "    </tr>\n",
       "    <tr>\n",
       "      <th>1</th>\n",
       "      <td>PAT-f0644084</td>\n",
       "      <td>Shannon Walker</td>\n",
       "      <td>6</td>\n",
       "      <td>2025-12-13</td>\n",
       "      <td>2025-12-14</td>\n",
       "      <td>surgery</td>\n",
       "      <td>83</td>\n",
       "    </tr>\n",
       "    <tr>\n",
       "      <th>2</th>\n",
       "      <td>PAT-ac6162e4</td>\n",
       "      <td>Julia Torres</td>\n",
       "      <td>24</td>\n",
       "      <td>2025-06-29</td>\n",
       "      <td>2025-07-05</td>\n",
       "      <td>general_medicine</td>\n",
       "      <td>83</td>\n",
       "    </tr>\n",
       "    <tr>\n",
       "      <th>3</th>\n",
       "      <td>PAT-3dda2bb5</td>\n",
       "      <td>Crystal Johnson</td>\n",
       "      <td>32</td>\n",
       "      <td>2025-10-12</td>\n",
       "      <td>2025-10-23</td>\n",
       "      <td>emergency</td>\n",
       "      <td>81</td>\n",
       "    </tr>\n",
       "    <tr>\n",
       "      <th>4</th>\n",
       "      <td>PAT-08591375</td>\n",
       "      <td>Garrett Lin</td>\n",
       "      <td>25</td>\n",
       "      <td>2025-02-18</td>\n",
       "      <td>2025-02-25</td>\n",
       "      <td>ICU</td>\n",
       "      <td>76</td>\n",
       "    </tr>\n",
       "  </tbody>\n",
       "</table>\n",
       "</div>"
      ],
      "text/plain": [
       "     patient_id               name  age arrival_date departure_date  \\\n",
       "0  PAT-09484753  Richard Rodriguez   24   2025-03-16     2025-03-22   \n",
       "1  PAT-f0644084     Shannon Walker    6   2025-12-13     2025-12-14   \n",
       "2  PAT-ac6162e4       Julia Torres   24   2025-06-29     2025-07-05   \n",
       "3  PAT-3dda2bb5    Crystal Johnson   32   2025-10-12     2025-10-23   \n",
       "4  PAT-08591375        Garrett Lin   25   2025-02-18     2025-02-25   \n",
       "\n",
       "            service  satisfaction  \n",
       "0           surgery            61  \n",
       "1           surgery            83  \n",
       "2  general_medicine            83  \n",
       "3         emergency            81  \n",
       "4               ICU            76  "
      ]
     },
     "execution_count": 25,
     "metadata": {},
     "output_type": "execute_result"
    }
   ],
   "source": [
    "dfpatients.head()"
   ]
  },
  {
   "cell_type": "code",
   "execution_count": 26,
   "id": "6d70f0c9-ac0b-4aac-96e8-d4826cd2fd83",
   "metadata": {},
   "outputs": [
    {
     "data": {
      "text/html": [
       "<div>\n",
       "<style scoped>\n",
       "    .dataframe tbody tr th:only-of-type {\n",
       "        vertical-align: middle;\n",
       "    }\n",
       "\n",
       "    .dataframe tbody tr th {\n",
       "        vertical-align: top;\n",
       "    }\n",
       "\n",
       "    .dataframe thead th {\n",
       "        text-align: right;\n",
       "    }\n",
       "</style>\n",
       "<table border=\"1\" class=\"dataframe\">\n",
       "  <thead>\n",
       "    <tr style=\"text-align: right;\">\n",
       "      <th></th>\n",
       "      <th>patient_id</th>\n",
       "      <th>name</th>\n",
       "      <th>age</th>\n",
       "      <th>arrival_date</th>\n",
       "      <th>departure_date</th>\n",
       "      <th>service</th>\n",
       "      <th>satisfaction</th>\n",
       "    </tr>\n",
       "  </thead>\n",
       "  <tbody>\n",
       "    <tr>\n",
       "      <th>0</th>\n",
       "      <td>PAT-09484753</td>\n",
       "      <td>Richard Rodriguez</td>\n",
       "      <td>24</td>\n",
       "      <td>2025-03-16</td>\n",
       "      <td>2025-03-22</td>\n",
       "      <td>surgery</td>\n",
       "      <td>61</td>\n",
       "    </tr>\n",
       "    <tr>\n",
       "      <th>1</th>\n",
       "      <td>PAT-f0644084</td>\n",
       "      <td>Shannon Walker</td>\n",
       "      <td>6</td>\n",
       "      <td>2025-12-13</td>\n",
       "      <td>2025-12-14</td>\n",
       "      <td>surgery</td>\n",
       "      <td>83</td>\n",
       "    </tr>\n",
       "  </tbody>\n",
       "</table>\n",
       "</div>"
      ],
      "text/plain": [
       "     patient_id               name  age arrival_date departure_date  service  \\\n",
       "0  PAT-09484753  Richard Rodriguez   24   2025-03-16     2025-03-22  surgery   \n",
       "1  PAT-f0644084     Shannon Walker    6   2025-12-13     2025-12-14  surgery   \n",
       "\n",
       "   satisfaction  \n",
       "0            61  \n",
       "1            83  "
      ]
     },
     "execution_count": 26,
     "metadata": {},
     "output_type": "execute_result"
    }
   ],
   "source": [
    "dfpatients.head(2)"
   ]
  },
  {
   "cell_type": "markdown",
   "id": "1fc3fc15-5812-46a9-95d0-73255ca177c7",
   "metadata": {},
   "source": [
    "# tail example"
   ]
  },
  {
   "cell_type": "code",
   "execution_count": 27,
   "id": "944e376a-989d-4d20-b8bd-e878ff4da556",
   "metadata": {},
   "outputs": [
    {
     "name": "stdout",
     "output_type": "stream",
     "text": [
      "Last Two students in Excel Sheet\n"
     ]
    },
    {
     "data": {
      "text/html": [
       "<div>\n",
       "<style scoped>\n",
       "    .dataframe tbody tr th:only-of-type {\n",
       "        vertical-align: middle;\n",
       "    }\n",
       "\n",
       "    .dataframe tbody tr th {\n",
       "        vertical-align: top;\n",
       "    }\n",
       "\n",
       "    .dataframe thead th {\n",
       "        text-align: right;\n",
       "    }\n",
       "</style>\n",
       "<table border=\"1\" class=\"dataframe\">\n",
       "  <thead>\n",
       "    <tr style=\"text-align: right;\">\n",
       "      <th></th>\n",
       "      <th>Name</th>\n",
       "      <th>Age</th>\n",
       "      <th>Marks</th>\n",
       "    </tr>\n",
       "  </thead>\n",
       "  <tbody>\n",
       "    <tr>\n",
       "      <th>4</th>\n",
       "      <td>Sam</td>\n",
       "      <td>25</td>\n",
       "      <td>90</td>\n",
       "    </tr>\n",
       "    <tr>\n",
       "      <th>5</th>\n",
       "      <td>Rohit</td>\n",
       "      <td>23</td>\n",
       "      <td>45</td>\n",
       "    </tr>\n",
       "  </tbody>\n",
       "</table>\n",
       "</div>"
      ],
      "text/plain": [
       "    Name  Age  Marks\n",
       "4    Sam   25     90\n",
       "5  Rohit   23     45"
      ]
     },
     "execution_count": 27,
     "metadata": {},
     "output_type": "execute_result"
    }
   ],
   "source": [
    "print('Last Two students in Excel Sheet')\n",
    "df.tail(2)"
   ]
  },
  {
   "cell_type": "code",
   "execution_count": 28,
   "id": "93dd29cd-9b3d-457d-9299-33cdfb7eda18",
   "metadata": {},
   "outputs": [
    {
     "data": {
      "text/html": [
       "<div>\n",
       "<style scoped>\n",
       "    .dataframe tbody tr th:only-of-type {\n",
       "        vertical-align: middle;\n",
       "    }\n",
       "\n",
       "    .dataframe tbody tr th {\n",
       "        vertical-align: top;\n",
       "    }\n",
       "\n",
       "    .dataframe thead th {\n",
       "        text-align: right;\n",
       "    }\n",
       "</style>\n",
       "<table border=\"1\" class=\"dataframe\">\n",
       "  <thead>\n",
       "    <tr style=\"text-align: right;\">\n",
       "      <th></th>\n",
       "      <th>patient_id</th>\n",
       "      <th>name</th>\n",
       "      <th>age</th>\n",
       "      <th>arrival_date</th>\n",
       "      <th>departure_date</th>\n",
       "      <th>service</th>\n",
       "      <th>satisfaction</th>\n",
       "    </tr>\n",
       "  </thead>\n",
       "  <tbody>\n",
       "    <tr>\n",
       "      <th>995</th>\n",
       "      <td>PAT-a01bf534</td>\n",
       "      <td>Amber Vang</td>\n",
       "      <td>26</td>\n",
       "      <td>2025-12-02</td>\n",
       "      <td>2025-12-04</td>\n",
       "      <td>emergency</td>\n",
       "      <td>91</td>\n",
       "    </tr>\n",
       "    <tr>\n",
       "      <th>996</th>\n",
       "      <td>PAT-87fa07bd</td>\n",
       "      <td>Martha Smith</td>\n",
       "      <td>89</td>\n",
       "      <td>2025-11-18</td>\n",
       "      <td>2025-11-30</td>\n",
       "      <td>emergency</td>\n",
       "      <td>99</td>\n",
       "    </tr>\n",
       "    <tr>\n",
       "      <th>997</th>\n",
       "      <td>PAT-8f07e894</td>\n",
       "      <td>Jennifer James</td>\n",
       "      <td>72</td>\n",
       "      <td>2025-12-12</td>\n",
       "      <td>2025-12-21</td>\n",
       "      <td>ICU</td>\n",
       "      <td>69</td>\n",
       "    </tr>\n",
       "    <tr>\n",
       "      <th>998</th>\n",
       "      <td>PAT-4ae301e1</td>\n",
       "      <td>Kara Hernandez</td>\n",
       "      <td>47</td>\n",
       "      <td>2025-02-08</td>\n",
       "      <td>2025-02-20</td>\n",
       "      <td>ICU</td>\n",
       "      <td>61</td>\n",
       "    </tr>\n",
       "    <tr>\n",
       "      <th>999</th>\n",
       "      <td>PAT-e2ef9c5f</td>\n",
       "      <td>Lorraine Turner</td>\n",
       "      <td>64</td>\n",
       "      <td>2025-05-04</td>\n",
       "      <td>2025-05-08</td>\n",
       "      <td>general_medicine</td>\n",
       "      <td>83</td>\n",
       "    </tr>\n",
       "  </tbody>\n",
       "</table>\n",
       "</div>"
      ],
      "text/plain": [
       "       patient_id             name  age arrival_date departure_date  \\\n",
       "995  PAT-a01bf534       Amber Vang   26   2025-12-02     2025-12-04   \n",
       "996  PAT-87fa07bd     Martha Smith   89   2025-11-18     2025-11-30   \n",
       "997  PAT-8f07e894   Jennifer James   72   2025-12-12     2025-12-21   \n",
       "998  PAT-4ae301e1   Kara Hernandez   47   2025-02-08     2025-02-20   \n",
       "999  PAT-e2ef9c5f  Lorraine Turner   64   2025-05-04     2025-05-08   \n",
       "\n",
       "              service  satisfaction  \n",
       "995         emergency            91  \n",
       "996         emergency            99  \n",
       "997               ICU            69  \n",
       "998               ICU            61  \n",
       "999  general_medicine            83  "
      ]
     },
     "execution_count": 28,
     "metadata": {},
     "output_type": "execute_result"
    }
   ],
   "source": [
    "dfpatients.tail(5)"
   ]
  },
  {
   "cell_type": "markdown",
   "id": "f65f11bb-fbb9-437e-9cd5-bb0bec880118",
   "metadata": {},
   "source": [
    "# shape example shape returns you (rows,columns)"
   ]
  },
  {
   "cell_type": "code",
   "execution_count": 29,
   "id": "8301a9fa-9e99-4fe4-91c3-641b053d3de8",
   "metadata": {},
   "outputs": [
    {
     "data": {
      "text/plain": [
       "(1000, 7)"
      ]
     },
     "execution_count": 29,
     "metadata": {},
     "output_type": "execute_result"
    }
   ],
   "source": [
    "dfpatients.shape"
   ]
  },
  {
   "cell_type": "code",
   "execution_count": 30,
   "id": "b3b22e4b-edac-4250-a776-d1e55683e063",
   "metadata": {},
   "outputs": [
    {
     "data": {
      "text/plain": [
       "(6, 3)"
      ]
     },
     "execution_count": 30,
     "metadata": {},
     "output_type": "execute_result"
    }
   ],
   "source": [
    "df.shape"
   ]
  },
  {
   "cell_type": "code",
   "execution_count": 31,
   "id": "026a090b-84c8-4dd6-b5ea-9c8a753557eb",
   "metadata": {},
   "outputs": [
    {
     "data": {
      "text/plain": [
       "(6, 3)"
      ]
     },
     "execution_count": 31,
     "metadata": {},
     "output_type": "execute_result"
    }
   ],
   "source": [
    "df.shape"
   ]
  },
  {
   "cell_type": "code",
   "execution_count": 37,
   "id": "3bce79d7-26e1-41a9-973a-7ba927e44654",
   "metadata": {},
   "outputs": [
    {
     "name": "stdout",
     "output_type": "stream",
     "text": [
      "Rows: 1000 Columns: 7\n"
     ]
    }
   ],
   "source": [
    "r,c=dfpatients.shape\n",
    "print(f\"Rows: {r} Columns: {c}\")"
   ]
  },
  {
   "cell_type": "code",
   "execution_count": 38,
   "id": "28c165fe-d9b7-460e-832e-7bd20a5de17e",
   "metadata": {},
   "outputs": [
    {
     "name": "stdout",
     "output_type": "stream",
     "text": [
      "Rows and Columns in Students Sheet\n",
      "Rows: 6 Columns: 3\n"
     ]
    }
   ],
   "source": [
    "r,c=df.shape\n",
    "print ('Rows and Columns in Students Sheet')\n",
    "print(f\"Rows: {r} Columns: {c}\")"
   ]
  },
  {
   "cell_type": "markdown",
   "id": "0ee03834-428d-4a37-96dd-81338b97ace0",
   "metadata": {},
   "source": [
    "# values: in dataframe"
   ]
  },
  {
   "cell_type": "code",
   "execution_count": 39,
   "id": "cd5ca853-71e2-4ee1-bbfb-ecdf2c3ee190",
   "metadata": {},
   "outputs": [
    {
     "name": "stdout",
     "output_type": "stream",
     "text": [
      "Student Values\n"
     ]
    },
    {
     "data": {
      "text/plain": [
       "array([['John', 20, 85],\n",
       "       ['Alice', 22, 90],\n",
       "       ['Bob', 21, 78],\n",
       "       ['Sara', 23, 92],\n",
       "       ['Sam', 25, 90],\n",
       "       ['Rohit', 23, 45]], dtype=object)"
      ]
     },
     "execution_count": 39,
     "metadata": {},
     "output_type": "execute_result"
    }
   ],
   "source": [
    "print('Student Values')\n",
    "df.values"
   ]
  },
  {
   "cell_type": "code",
   "execution_count": 41,
   "id": "ba16f150-e87c-4b5a-92c2-d0d78698a648",
   "metadata": {},
   "outputs": [
    {
     "name": "stdout",
     "output_type": "stream",
     "text": [
      "Patients Values\n"
     ]
    },
    {
     "data": {
      "text/plain": [
       "array([['PAT-09484753', 'Richard Rodriguez', 24, ..., '2025-03-22',\n",
       "        'surgery', 61],\n",
       "       ['PAT-f0644084', 'Shannon Walker', 6, ..., '2025-12-14',\n",
       "        'surgery', 83],\n",
       "       ['PAT-ac6162e4', 'Julia Torres', 24, ..., '2025-07-05',\n",
       "        'general_medicine', 83],\n",
       "       ...,\n",
       "       ['PAT-8f07e894', 'Jennifer James', 72, ..., '2025-12-21', 'ICU',\n",
       "        69],\n",
       "       ['PAT-4ae301e1', 'Kara Hernandez', 47, ..., '2025-02-20', 'ICU',\n",
       "        61],\n",
       "       ['PAT-e2ef9c5f', 'Lorraine Turner', 64, ..., '2025-05-08',\n",
       "        'general_medicine', 83]], dtype=object)"
      ]
     },
     "execution_count": 41,
     "metadata": {},
     "output_type": "execute_result"
    }
   ],
   "source": [
    "print('Patients Values')\n",
    "dfpatients.values"
   ]
  },
  {
   "cell_type": "code",
   "execution_count": null,
   "id": "e1012f20-471c-4682-b169-cf4769175a4c",
   "metadata": {},
   "outputs": [],
   "source": []
  }
 ],
 "metadata": {
  "kernelspec": {
   "display_name": "Python [conda env:base] *",
   "language": "python",
   "name": "conda-base-py"
  },
  "language_info": {
   "codemirror_mode": {
    "name": "ipython",
    "version": 3
   },
   "file_extension": ".py",
   "mimetype": "text/x-python",
   "name": "python",
   "nbconvert_exporter": "python",
   "pygments_lexer": "ipython3",
   "version": "3.13.5"
  }
 },
 "nbformat": 4,
 "nbformat_minor": 5
}
