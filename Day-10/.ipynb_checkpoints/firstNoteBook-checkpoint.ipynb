{
 "cells": [
  {
   "cell_type": "markdown",
   "id": "5bc3464f-fdbc-4102-b619-572849b020e6",
   "metadata": {},
   "source": [
    "# First Note Book"
   ]
  },
  {
   "cell_type": "code",
   "execution_count": null,
   "id": "df5c30a6-cf0d-4a91-adc6-8307b62d649d",
   "metadata": {},
   "outputs": [],
   "source": [
    "Steps to Print a Single Line"
   ]
  },
  {
   "cell_type": "code",
   "execution_count": 1,
   "id": "c5edb3b1-e8c6-42cf-a7fa-3afdec9f2e71",
   "metadata": {},
   "outputs": [
    {
     "name": "stdout",
     "output_type": "stream",
     "text": [
      "Welcome to Python Notebook\n"
     ]
    }
   ],
   "source": [
    "print('Welcome to Python Notebook')"
   ]
  },
  {
   "cell_type": "markdown",
   "id": "88853715-29ec-46e8-b27b-ab771e754351",
   "metadata": {},
   "source": [
    "# For Loop Example"
   ]
  },
  {
   "cell_type": "code",
   "execution_count": 3,
   "id": "e0276419-1c30-4690-bfb6-b12cec562d73",
   "metadata": {},
   "outputs": [
    {
     "name": "stdout",
     "output_type": "stream",
     "text": [
      "1\t2\t3\t4\t5\t6\t7\t8\t9\t10\t11\t12\t13\t14\t15\t16\t17\t18\t19\t20\t21\t22\t23\t24\t25\t26\t27\t28\t29\t30\t31\t32\t33\t34\t35\t36\t37\t38\t39\t40\t41\t42\t43\t44\t45\t46\t47\t48\t49\t50\t51\t52\t53\t54\t55\t56\t57\t58\t59\t60\t61\t62\t63\t64\t65\t66\t67\t68\t69\t70\t71\t72\t73\t74\t75\t76\t77\t78\t79\t80\t81\t82\t83\t84\t85\t86\t87\t88\t89\t90\t91\t92\t93\t94\t95\t96\t97\t98\t99\t100\t"
     ]
    }
   ],
   "source": [
    "for num in range(1,101):\n",
    "    print(num,end=\"\\t\")"
   ]
  },
  {
   "cell_type": "code",
   "execution_count": 6,
   "id": "c48e1611-5213-4ec7-90b8-c28b6f03df0a",
   "metadata": {},
   "outputs": [],
   "source": [
    "players=('MS.Dhoni','Moin Ali','Rashid Khan','Dawid Warner','Joe Root')"
   ]
  },
  {
   "cell_type": "code",
   "execution_count": 7,
   "id": "e89291df-2f62-4f4b-944d-0b63648aaf5d",
   "metadata": {},
   "outputs": [
    {
     "name": "stdout",
     "output_type": "stream",
     "text": [
      "MS.Dhoni\n",
      "Moin Ali\n",
      "Rashid Khan\n",
      "Dawid Warner\n",
      "Joe Root\n"
     ]
    }
   ],
   "source": [
    "for player in players:\n",
    "    print(player)"
   ]
  },
  {
   "cell_type": "code",
   "execution_count": 8,
   "id": "2fd63c87-827d-4cf8-8d96-c70846dae149",
   "metadata": {},
   "outputs": [
    {
     "name": "stdout",
     "output_type": "stream",
     "text": [
      "Welcome Again\n",
      "One more thing\n"
     ]
    }
   ],
   "source": [
    "print('Welcome Again')\n",
    "print('One more thing')"
   ]
  },
  {
   "cell_type": "code",
   "execution_count": null,
   "id": "742a90ef-3f27-41ea-934f-a7c4bcefd843",
   "metadata": {},
   "outputs": [],
   "source": []
  }
 ],
 "metadata": {
  "kernelspec": {
   "display_name": "Python 3 (ipykernel)",
   "language": "python",
   "name": "python3"
  },
  "language_info": {
   "codemirror_mode": {
    "name": "ipython",
    "version": 3
   },
   "file_extension": ".py",
   "mimetype": "text/x-python",
   "name": "python",
   "nbconvert_exporter": "python",
   "pygments_lexer": "ipython3",
   "version": "3.13.5"
  }
 },
 "nbformat": 4,
 "nbformat_minor": 5
}
