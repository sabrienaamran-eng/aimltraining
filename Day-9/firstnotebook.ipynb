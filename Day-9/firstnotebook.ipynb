{
 "cells": [
  {
   "cell_type": "markdown",
   "id": "914f38e8-388c-4ba8-8afe-14356e781704",
   "metadata": {},
   "source": [
    "# First Notebook"
   ]
  },
  {
   "cell_type": "markdown",
   "id": "3c20ad17-371b-4a55-9f99-ce998c35c815",
   "metadata": {},
   "source": [
    "Welcome to Jupyter Notebook"
   ]
  },
  {
   "cell_type": "markdown",
   "id": "2849e0d8-b756-4673-8679-7ee15cc5ad7f",
   "metadata": {},
   "source": [
    "numbers=(12,13,45,56)\n",
    "for num in numbers:\n",
    "    print(num)"
   ]
  },
  {
   "cell_type": "code",
   "execution_count": 6,
   "id": "4e4d4c4e-0269-48b2-b8d0-aaaf675fac15",
   "metadata": {},
   "outputs": [],
   "source": [
    "#we are going to write one collection of numbers\n",
    "numbers=(1,2,4,5,6)"
   ]
  },
  {
   "cell_type": "code",
   "execution_count": 7,
   "id": "864405db-ebcb-4c72-896e-5e0a4b3f9e76",
   "metadata": {},
   "outputs": [
    {
     "name": "stdout",
     "output_type": "stream",
     "text": [
      "1\n",
      "2\n",
      "4\n",
      "5\n",
      "6\n"
     ]
    }
   ],
   "source": [
    "for num in numbers:\n",
    "    print(num)"
   ]
  },
  {
   "cell_type": "code",
   "execution_count": 8,
   "id": "784d9893-bf31-45f9-9842-4e39b6793548",
   "metadata": {},
   "outputs": [
    {
     "name": "stdout",
     "output_type": "stream",
     "text": [
      "1 2 3 4 5 6 7 8 9 10 11 12 13 14 15 16 17 18 19 20 21 22 23 24 25 26 27 28 29 30 31 32 33 34 35 36 37 38 39 40 41 42 43 44 45 46 47 48 49 50 51 52 53 54 55 56 57 58 59 60 61 62 63 64 65 66 67 68 69 70 71 72 73 74 75 76 77 78 79 80 81 82 83 84 85 86 87 88 89 90 91 92 93 94 95 96 97 98 99 "
     ]
    }
   ],
   "source": [
    "for i in range (1,100):\n",
    "    print(i,end=\" \")"
   ]
  },
  {
   "cell_type": "code",
   "execution_count": null,
   "id": "d715b882-0e02-4def-97a6-58a07997cb75",
   "metadata": {},
   "outputs": [],
   "source": [
    "End of Notebook"
   ]
  },
  {
   "cell_type": "markdown",
   "id": "6c61476c-cc5d-4b5c-8c63-6a789a7987da",
   "metadata": {},
   "source": [
    "#End of notebook"
   ]
  },
  {
   "cell_type": "markdown",
   "id": "34cd6a63-6e0d-4b4e-aaf5-a8c1c8e21426",
   "metadata": {},
   "source": [
    "#End of Notebook"
   ]
  },
  {
   "cell_type": "markdown",
   "id": "68ac2bf2-2cb9-4f35-a755-e98d5fd81644",
   "metadata": {},
   "source": []
  }
 ],
 "metadata": {
  "kernelspec": {
   "display_name": "Python 3 (ipykernel)",
   "language": "python",
   "name": "python3"
  },
  "language_info": {
   "codemirror_mode": {
    "name": "ipython",
    "version": 3
   },
   "file_extension": ".py",
   "mimetype": "text/x-python",
   "name": "python",
   "nbconvert_exporter": "python",
   "pygments_lexer": "ipython3",
   "version": "3.13.5"
  }
 },
 "nbformat": 4,
 "nbformat_minor": 5
}
